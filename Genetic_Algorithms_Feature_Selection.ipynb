{
  "nbformat": 4,
  "nbformat_minor": 0,
  "metadata": {
    "colab": {
      "provenance": [],
      "collapsed_sections": [
        "E7lEcaQc_UnQ",
        "HOE7asc8_axk",
        "kd_MBr7A_hCE",
        "nWQaqof__sQM",
        "G7jtiYD6_28m"
      ]
    },
    "kernelspec": {
      "name": "python3",
      "display_name": "Python 3"
    },
    "language_info": {
      "name": "python"
    }
  },
  "cells": [
    {
      "cell_type": "markdown",
      "source": [
        "# **Imports**"
      ],
      "metadata": {
        "id": "E7lEcaQc_UnQ"
      }
    },
    {
      "cell_type": "code",
      "execution_count": 1,
      "metadata": {
        "id": "LQeBFrpqGkCb",
        "colab": {
          "base_uri": "https://localhost:8080/"
        },
        "outputId": "2e47de76-21fd-4032-a1af-37e4a666d5cb"
      },
      "outputs": [
        {
          "output_type": "stream",
          "name": "stdout",
          "text": [
            "Mounted at /content/drive\n"
          ]
        }
      ],
      "source": [
        "import numpy as np\n",
        "import pandas as pd\n",
        "import matplotlib.pyplot as plt\n",
        "from sklearn.model_selection import train_test_split\n",
        "from sklearn.linear_model import LogisticRegression\n",
        "from sklearn.model_selection import GridSearchCV\n",
        "from sklearn.metrics import accuracy_score, f1_score, roc_auc_score, confusion_matrix\n",
        "from itertools import product\n",
        "from sklearn.feature_selection import mutual_info_classif, RFE\n",
        "import warnings\n",
        "from google.colab import drive\n",
        "drive.mount('/content/drive', force_remount=True)\n",
        "expression = pd.read_csv('/content/drive/MyDrive/expression_liu.tsv', sep='\\t')"
      ]
    },
    {
      "cell_type": "markdown",
      "source": [
        "# **Helper Functions**\n"
      ],
      "metadata": {
        "id": "HOE7asc8_axk"
      }
    },
    {
      "cell_type": "code",
      "source": [
        "def diffMeansEvalScore(featuresDF,labels):\n",
        "  featuresDF['ICB Response']=labels\n",
        "\n",
        "  class0 = featuresDF[featuresDF['ICB Response'] == 0.0]\n",
        "  class1 = featuresDF[featuresDF['ICB Response'] == 1.0]\n",
        "\n",
        "  class0=class0.drop(columns=[\"ICB Response\"])\n",
        "  class1=class1.drop(columns=[\"ICB Response\"])\n",
        "\n",
        "  featuresDF=featuresDF.drop(columns=['ICB Response'])\n",
        "\n",
        "  sum=0\n",
        "  for gene in featuresDF.columns:\n",
        "    mean0=class0.loc[:,gene].mean()\n",
        "    mean1=class1.loc[:,gene].mean()\n",
        "\n",
        "    diff=np.abs(mean0-mean1)\n",
        "    sum += diff\n",
        "  return sum"
      ],
      "metadata": {
        "id": "v0Wjm05MIZ8Z"
      },
      "execution_count": 2,
      "outputs": []
    },
    {
      "cell_type": "code",
      "source": [
        "'''\n",
        "\n",
        "def LogRegTrainEvalScore(featuresDF,labels):\n",
        "  featuresDF['ICB Response']=labels\n",
        "  train_df, test_df = train_test_split(featuresDF, train_size=0.8, test_size=0.2, random_state=0, stratify=featuresDF.loc[:,'ICB Response'])\n",
        "  train_labels = train_df.loc[:,'ICB Response']\n",
        "  test_labels = test_df.loc[:,'ICB Response']\n",
        "  train_df = train_df.drop(labels='ICB Response', axis=1)\n",
        "  test_df = test_df.drop(labels='ICB Response', axis=1)\n",
        "\n",
        "  param_grid = {\n",
        "      'C': [0.001,0.01,0.1,1,10,100],\n",
        "      'class_weight': [None,'balanced'],\n",
        "      'solver': ['newton-cg','liblinear']}\n",
        "\n",
        "  clf = LogisticRegression(random_state=0)\n",
        "  grid_search = GridSearchCV(clf, param_grid, cv=5, scoring='accuracy')\n",
        "  grid_search.fit(train_df, train_labels)\n",
        "\n",
        "  best_params_grid = grid_search.best_params_\n",
        "  best_model_grid = grid_search.best_estimator_\n",
        "\n",
        "  model_predictions = best_model_grid.predict(test_df)\n",
        "\n",
        "  acc_score=accuracy_score(test_labels,model_predictions)\n",
        "\n",
        "  return acc_score\n",
        "\n",
        "  '''"
      ],
      "metadata": {
        "id": "GBkuSbPdKD6Y",
        "colab": {
          "base_uri": "https://localhost:8080/",
          "height": 122
        },
        "outputId": "04e741ff-e502-4268-a181-9944acfbdacb"
      },
      "execution_count": 3,
      "outputs": [
        {
          "output_type": "execute_result",
          "data": {
            "text/plain": [
              "\"\\n\\ndef LogRegTrainEvalScore(featuresDF,labels):\\n  featuresDF['ICB Response']=labels\\n  train_df, test_df = train_test_split(featuresDF, train_size=0.8, test_size=0.2, random_state=0, stratify=featuresDF.loc[:,'ICB Response'])\\n  train_labels = train_df.loc[:,'ICB Response']\\n  test_labels = test_df.loc[:,'ICB Response']\\n  train_df = train_df.drop(labels='ICB Response', axis=1)\\n  test_df = test_df.drop(labels='ICB Response', axis=1)\\n\\n  param_grid = {\\n      'C': [0.001,0.01,0.1,1,10,100],\\n      'class_weight': [None,'balanced'],\\n      'solver': ['newton-cg','liblinear']}\\n\\n  clf = LogisticRegression(random_state=0)\\n  grid_search = GridSearchCV(clf, param_grid, cv=5, scoring='accuracy')\\n  grid_search.fit(train_df, train_labels)\\n\\n  best_params_grid = grid_search.best_params_\\n  best_model_grid = grid_search.best_estimator_\\n\\n  model_predictions = best_model_grid.predict(test_df)\\n\\n  acc_score=accuracy_score(test_labels,model_predictions)\\n\\n  return acc_score\\n\\n  \""
            ],
            "application/vnd.google.colaboratory.intrinsic+json": {
              "type": "string"
            }
          },
          "metadata": {},
          "execution_count": 3
        }
      ]
    },
    {
      "cell_type": "code",
      "source": [
        "def logistic_regression_classifier(X, y):\n",
        "  clf = LogisticRegression(random_state=0)\n",
        "  param_grid = {\n",
        "    'C': [0.001,0.01,0.1,1,10,100],\n",
        "    'solver': ['newton-cg', 'liblinear'],\n",
        "    'class_weight': [None, 'balanced'],\n",
        "  }\n",
        "\n",
        "  X_train, X_test, y_train, y_test = train_test_split(X, y, train_size=0.8, test_size=0.2, random_state=0, stratify=y)\n",
        "\n",
        "  grid_search = GridSearchCV(estimator=clf, param_grid=param_grid, cv=5, scoring='accuracy')\n",
        "\n",
        "  grid_search.fit(X_train, y_train)\n",
        "  best_clf = grid_search.best_estimator_\n",
        "\n",
        "  y_pred = best_clf.predict(X_test)\n",
        "  test_accuracy = accuracy_score(y_test, y_pred)\n",
        "\n",
        "  return test_accuracy"
      ],
      "metadata": {
        "id": "CkOe7oeAs-CP"
      },
      "execution_count": 4,
      "outputs": []
    },
    {
      "cell_type": "code",
      "source": [
        "def evaluate_rfe(X, y, n_features_to_select=60, step=1):\n",
        "\n",
        "    X_train, X_test, y_train, y_test = train_test_split(X, y, test_size=0.2, random_state=42, stratify=y)\n",
        "\n",
        "    logreg = LogisticRegression(random_state=0, class_weight='balanced', n_jobs=-1)\n",
        "    rfe = RFE(estimator=logreg, n_features_to_select=n_features_to_select, step=step)\n",
        "\n",
        "    rfe.fit(X_train, y_train)\n",
        "\n",
        "    selected_features = pd.DataFrame({'Feature': X.columns,\n",
        "                                      'Selected': rfe.support_,})\n",
        "    s = selected_features[selected_features['Selected'] == True]\n",
        "\n",
        "    selected_genes = s['Feature']\n",
        "\n",
        "    filtered_exp = X[selected_genes]\n",
        "\n",
        "    results_df = logistic_regression_classifier(filtered_exp, y)\n",
        "\n",
        "    return results_df"
      ],
      "metadata": {
        "id": "tGO01Z6g_Ij9"
      },
      "execution_count": 5,
      "outputs": []
    },
    {
      "cell_type": "code",
      "source": [
        "def evaluate_MI(X, y, top_k=60):\n",
        "\n",
        "  info_gain = mutual_info_classif(X, y, discrete_features='auto', random_state = 42)\n",
        "\n",
        "  info_gain_df = pd.DataFrame({'Feature': X.columns, 'Information Gain': info_gain})\n",
        "  info_gain_df = info_gain_df.sort_values(by='Information Gain', ascending=False).reset_index(drop=True)\n",
        "\n",
        "  if top_k is not None:\n",
        "      info_gain_df = info_gain_df.head(top_k)\n",
        "      info_gain_df = info_gain_df[info_gain_df['Information Gain'] > 0]\n",
        "\n",
        "  selected_genes = info_gain_df['Feature'].tolist()\n",
        "\n",
        "  filtered_exp = X[selected_genes]\n",
        "\n",
        "  results_df = logistic_regression_classifier(filtered_exp, y)\n",
        "\n",
        "  return results_df"
      ],
      "metadata": {
        "id": "xTB2XN1D_JO8"
      },
      "execution_count": 18,
      "outputs": []
    },
    {
      "cell_type": "markdown",
      "source": [
        "# **Genetic Algorithms Implementation**"
      ],
      "metadata": {
        "id": "kd_MBr7A_hCE"
      }
    },
    {
      "cell_type": "code",
      "source": [
        "\"\"\"Initialize the population with chromosomes satisfying the max_selected_features constraint\"\"\"\n",
        "\n",
        "def initialize_population(population_size, num_features, max_selected_features):\n",
        "    population = np.zeros((population_size, num_features), dtype=int) # initialize the population with an array of num_features zeroes\n",
        "    for i in range(population_size): # For every individual in the population...\n",
        "        selected_indices = np.random.choice(num_features, size=max_selected_features, replace=False) # selecting max_selected_features random positions (indices)\n",
        "        population[i, selected_indices] = 1 # adding 1 to those positions --> meaning these positions are selected\n",
        "    return population"
      ],
      "metadata": {
        "id": "v3BSnvP7Igc5"
      },
      "execution_count": 7,
      "outputs": []
    },
    {
      "cell_type": "code",
      "source": [
        "x = initialize_population(5, 10, 5)\n",
        "x"
      ],
      "metadata": {
        "colab": {
          "base_uri": "https://localhost:8080/"
        },
        "id": "Jz3P26FENuoA",
        "outputId": "cb52ecea-d446-4d68-ef13-9d5a5a6f7691"
      },
      "execution_count": 8,
      "outputs": [
        {
          "output_type": "execute_result",
          "data": {
            "text/plain": [
              "array([[0, 1, 0, 0, 0, 1, 1, 0, 1, 1],\n",
              "       [0, 1, 0, 0, 0, 0, 1, 1, 1, 1],\n",
              "       [0, 1, 1, 0, 1, 1, 0, 0, 0, 1],\n",
              "       [1, 1, 0, 0, 1, 0, 0, 1, 1, 0],\n",
              "       [1, 1, 0, 1, 0, 0, 1, 0, 0, 1]])"
            ]
          },
          "metadata": {},
          "execution_count": 8
        }
      ]
    },
    {
      "cell_type": "code",
      "source": [
        "\"\"\"Select the best num_parents individuals based on their fitness evaluation --> according to the rank-selection method. \"\"\"\n",
        "\n",
        "def select_parents(population, fitness_scores, num_parents):\n",
        "    # Rank individuals by their fitness scores: the higher the fitness, the better the rank.\n",
        "    # np.argsort returns indices that would sort an array, with the lowest value at the first index --> ascending order sorting\n",
        "    # By using [::-1], we reverse the order to get indices of highest to lowest fitness scores --> descending order\n",
        "    ranked_indices = np.argsort(fitness_scores)[::-1]\n",
        "\n",
        "    # for example, if the fitness_scores is [1, 3, 5, 7, 2]\n",
        "    # then sorting[::-1] would produce [7, 5, 3, 2, 1], with indices [3, 2, 1, 4, 0]\n",
        "\n",
        "    # Calculate selection probabilities proportional to the rank (not the fitness score directly)\n",
        "    # Total ranks will be the sum of numbers from 1 to len(population)\n",
        "    # if the population is made of 5 individuals, then the total_ranks = 1 + 2 + 3 + 4 + 5, which is an algebraic series :D\n",
        "    total_ranks = len(population) * (len(population) + 1) / 2\n",
        "\n",
        "    # Assign selection probabilities inversely to the ranks (rank 1 gets the highest probability, which is equal to 5 - 0 / 15 = 5/15)\n",
        "    selection_probabilities = np.array([len(population) - rank for rank in range(len(population))]) / total_ranks\n",
        "\n",
        "    # Select parent indices based on the calculated probabilities\n",
        "    parents_indices = np.random.choice(ranked_indices, size=num_parents, replace=False, p=selection_probabilities)\n",
        "\n",
        "    return population[parents_indices]"
      ],
      "metadata": {
        "id": "QblH-cQNIhBv"
      },
      "execution_count": 9,
      "outputs": []
    },
    {
      "cell_type": "code",
      "source": [
        "parents = select_parents(x, [1, 2, 3, 4, 5], 2)\n",
        "parents"
      ],
      "metadata": {
        "colab": {
          "base_uri": "https://localhost:8080/"
        },
        "id": "mgveRpH4OfOj",
        "outputId": "3357586a-5507-4cd2-cae9-c5d2f4b42519"
      },
      "execution_count": 10,
      "outputs": [
        {
          "output_type": "execute_result",
          "data": {
            "text/plain": [
              "array([[0, 1, 0, 0, 0, 1, 1, 0, 1, 1],\n",
              "       [1, 1, 0, 0, 1, 0, 0, 1, 1, 0]])"
            ]
          },
          "metadata": {},
          "execution_count": 10
        }
      ]
    },
    {
      "cell_type": "code",
      "source": [
        "\"\"\"Perform crossover (recombination) between pairs of parents at a random position from 0 to the number of features (genes) the parents carry such that the offspring inherits the\n",
        "genetic material up to that position from the first parent and from that position to the end from the second parent. If that position is at the start or the end, no crossing over will happen.\n",
        "That means equal inheritance from both parents if the number of genes is even and more inheritance from the first parent if it is odd.\n",
        "\n",
        "This function handles the default behavior of single crossover as well as the uniform crossover (50% inheritance possibility for every from any parent)\n",
        "\"\"\"\n",
        "\n",
        "def crossover(parents, crossover_prob, crossover_type='s'):\n",
        "    offspring_size = parents.shape[1]\n",
        "    offspring = np.zeros((1, offspring_size))\n",
        "\n",
        "    if np.random.rand() < crossover_prob:\n",
        "        if crossover_type == 's':  # Single-point crossover\n",
        "            crossover_point = np.random.randint(1, offspring_size - 1)\n",
        "            offspring[0, :crossover_point] = parents[0, :crossover_point]\n",
        "            offspring[0, crossover_point:] = parents[1, crossover_point:]\n",
        "        elif crossover_type == 'u':  # Uniform crossover\n",
        "            for i in range(offspring_size):\n",
        "                if np.random.rand() < 0.5:\n",
        "                    offspring[0, i] = parents[0, i]\n",
        "                else:\n",
        "                    offspring[0, i] = parents[1, i]\n",
        "    else:\n",
        "        # No crossover: equally inherit from the parents\n",
        "        midpoint = offspring_size // 2\n",
        "        if offspring_size % 2 != 0:  # if the number of genes is odd\n",
        "            midpoint += 1  # First parent contributes more (if I want the second parent to contribute more it would be midpoint -= 1), so it's just an implementation thing\n",
        "        offspring[0, :midpoint] = parents[0, :midpoint]\n",
        "        offspring[0, midpoint:] = parents[1, midpoint:]\n",
        "\n",
        "    return offspring"
      ],
      "metadata": {
        "id": "pB1TZT3FIi0y"
      },
      "execution_count": 11,
      "outputs": []
    },
    {
      "cell_type": "code",
      "source": [
        "offspring = crossover(parents, 0.1, \"s\")\n",
        "offspring"
      ],
      "metadata": {
        "colab": {
          "base_uri": "https://localhost:8080/"
        },
        "id": "ouy6CM5DRlZg",
        "outputId": "1c4e5aab-09a2-4d40-96ce-c2523b14b8c3"
      },
      "execution_count": 12,
      "outputs": [
        {
          "output_type": "execute_result",
          "data": {
            "text/plain": [
              "array([[0., 1., 0., 0., 0., 0., 0., 1., 1., 0.]])"
            ]
          },
          "metadata": {},
          "execution_count": 12
        }
      ]
    },
    {
      "cell_type": "code",
      "source": [
        "\"\"\"Introduce random changes (mutations) to the offspring. That means to flip a 0 to a 1 or a 1 to a 0.\n",
        "This can be for every gene (if multiple_mutations = True) or for one gene only (a single-point mutation, if multiple_mutations = False, which is the default behavior).\n",
        "\"\"\"\n",
        "\n",
        "def mutate(offspring, mutation_prob, multiple_mutations=False):\n",
        "\n",
        "  num_genes = offspring.shape[1]\n",
        "\n",
        "  if multiple_mutations:\n",
        "      for i in range(num_genes):\n",
        "          if np.random.rand() < mutation_prob:\n",
        "              offspring[0, i] = 1 - offspring[0, i]  # Flip the gene value\n",
        "  else:\n",
        "      if np.random.rand() < mutation_prob:\n",
        "          mutation_point = np.random.randint(0, num_genes)\n",
        "          offspring[0, mutation_point] = 1 - offspring[0, mutation_point]\n",
        "\n",
        "  return offspring"
      ],
      "metadata": {
        "id": "YIS3ryIGOpmo"
      },
      "execution_count": 13,
      "outputs": []
    },
    {
      "cell_type": "code",
      "source": [
        "mut_offspring = mutate(offspring, 0.1, False)\n",
        "mut_offspring"
      ],
      "metadata": {
        "colab": {
          "base_uri": "https://localhost:8080/"
        },
        "id": "yL3SYSpBLHmZ",
        "outputId": "1ec78742-5773-4591-9222-7080ae345cc3"
      },
      "execution_count": 14,
      "outputs": [
        {
          "output_type": "execute_result",
          "data": {
            "text/plain": [
              "array([[0., 1., 0., 0., 0., 0., 0., 1., 1., 0.]])"
            ]
          },
          "metadata": {},
          "execution_count": 14
        }
      ]
    },
    {
      "cell_type": "code",
      "source": [
        "def enforce_feature_constraints(offspring_population, max_selected_features):\n",
        "    temp = []\n",
        "    for i in range(len(offspring_population)):\n",
        "        offspring = offspring_population[i]\n",
        "        current_features = np.where(offspring == 1)\n",
        "        current_count = len(current_features[0])\n",
        "        if current_count > max_selected_features:\n",
        "            # Too many features, need to turn some off\n",
        "            excess = current_count - max_selected_features\n",
        "            drop_indices = np.random.choice(current_features[1], excess, replace=False)\n",
        "            offspring[0, drop_indices] = 0\n",
        "        elif current_count < max_selected_features:\n",
        "            # Too few features, need to turn some on\n",
        "            available_indices = np.where(offspring == 0)\n",
        "            shortage = max_selected_features - current_count\n",
        "            add_indices = np.random.choice(available_indices[1], shortage, replace=False)\n",
        "            offspring[0, add_indices] = 1\n",
        "\n",
        "        temp.append(offspring)\n",
        "\n",
        "\n",
        "    return np.squeeze(np.array(temp))"
      ],
      "metadata": {
        "id": "W3O1--sT_5uP"
      },
      "execution_count": 15,
      "outputs": []
    },
    {
      "cell_type": "code",
      "source": [
        "'''\n",
        "Genetic algorithm for selecting a feature subset from a labelled gene expression dataframe\n",
        "'''\n",
        "\n",
        "def genetic_algorithm(featuresDF, population_size, num_generations, max_selected_features, crossover_prob, mutation_prob, multiple_mutations=False, crossover_type='s', fitness_function=\"means\"):\n",
        "  # Extract features and labels from the DataFrame\n",
        "  features = featuresDF.iloc[:, 1:-1]\n",
        "  labels = featuresDF.iloc[:, -1]\n",
        "\n",
        "  # Initialize population\n",
        "  num_features = features.shape[1]\n",
        "  population = initialize_population(population_size, num_features, max_selected_features)\n",
        "\n",
        "  best_fitnesses = []\n",
        "  for generation in range(num_generations):\n",
        "    # Evaluate fitness\n",
        "    fitness_scores = []\n",
        "    if fitness_function == \"mean\":\n",
        "      fitness_scores = [diffMeansEvalScore(features.iloc[:, np.where(individual == 1)[0]], labels) for individual in population]\n",
        "    elif fitness_function == \"LR\":\n",
        "      for individual in population:\n",
        "        features_indices = np.where(individual == 1)[0]\n",
        "        filtered_expression = features[features.columns[features_indices].tolist()]\n",
        "        fitness_scores.append(logistic_regression_classifier(filtered_expression, labels))\n",
        "    parents = select_parents(population, fitness_scores, num_parents=population_size // 2)\n",
        "\n",
        "    # Shuffle the parent indices to randomize mating pairs\n",
        "    np.random.shuffle(parents)\n",
        "    # Generate offspring through crossover and mutation\n",
        "    offspring_population = []\n",
        "    for i in range(0, len(parents) - 1, 2):\n",
        "      offspring = crossover(np.array([parents[i], parents[i + 1]]), crossover_prob, crossover_type)\n",
        "      offspring = mutate(offspring, mutation_prob, multiple_mutations)\n",
        "      offspring_population.append(offspring)\n",
        "\n",
        "    # Enforce the feature constraints on the new offspring\n",
        "    enforced_offspring_population = enforce_feature_constraints(offspring_population, max_selected_features) # also may be done once at the last generation\n",
        "\n",
        "    # Replace the least fit individuals with new offspring\n",
        "    replacement_indices = np.argsort(fitness_scores)[:len(enforced_offspring_population)]\n",
        "    population[replacement_indices] = enforced_offspring_population\n",
        "\n",
        "    print(f\"Generation {generation + 1}: Best Fitness = {max(fitness_scores)}\")\n",
        "    best_fitnesses.append(max(fitness_scores))\n",
        "\n",
        "  best_individual_index = np.argmax(fitness_scores)\n",
        "  best_individual = population[best_individual_index]\n",
        "  best_features_indices = np.where(best_individual == 1)[0]\n",
        "  filtered_expression = features[features.columns[best_features_indices].tolist()]\n",
        "\n",
        "  return filtered_expression.columns.tolist(), best_fitnesses\n",
        "\n",
        "warnings.filterwarnings('ignore')"
      ],
      "metadata": {
        "id": "054hFujdIl2v"
      },
      "execution_count": 16,
      "outputs": []
    },
    {
      "cell_type": "markdown",
      "source": [
        "# **Run A Simple Trial**"
      ],
      "metadata": {
        "id": "nWQaqof__sQM"
      }
    },
    {
      "cell_type": "code",
      "source": [
        "GA = genetic_algorithm(expression, population_size=50, num_generations=25, max_selected_features=120, crossover_prob=0.1, mutation_prob=0.1, multiple_mutations=False, crossover_type='s', fitness_function=\"mean\")\n",
        "warnings.filterwarnings('ignore')"
      ],
      "metadata": {
        "colab": {
          "base_uri": "https://localhost:8080/"
        },
        "id": "wJosNI7NJJI_",
        "outputId": "9cba0589-f9ca-4541-dc63-2c214c8f84d8",
        "collapsed": true
      },
      "execution_count": null,
      "outputs": [
        {
          "output_type": "stream",
          "name": "stdout",
          "text": [
            "Generation 1: Best Fitness = 3.399741613327974\n",
            "Generation 2: Best Fitness = 3.4444812923303565\n",
            "Generation 3: Best Fitness = 3.4444812923303565\n",
            "Generation 4: Best Fitness = 3.4444812923303565\n",
            "Generation 5: Best Fitness = 3.4718590194645618\n",
            "Generation 6: Best Fitness = 3.4718590194645618\n",
            "Generation 7: Best Fitness = 3.585726706097331\n",
            "Generation 8: Best Fitness = 3.6696664180686573\n",
            "Generation 9: Best Fitness = 3.6696664180686573\n",
            "Generation 10: Best Fitness = 3.6696664180686573\n",
            "Generation 11: Best Fitness = 3.729315458956259\n",
            "Generation 12: Best Fitness = 3.729315458956259\n",
            "Generation 13: Best Fitness = 3.809633359868607\n",
            "Generation 14: Best Fitness = 3.809633359868607\n",
            "Generation 15: Best Fitness = 3.809633359868607\n",
            "Generation 16: Best Fitness = 3.809633359868607\n",
            "Generation 17: Best Fitness = 3.886787347483777\n",
            "Generation 18: Best Fitness = 3.886787347483777\n",
            "Generation 19: Best Fitness = 3.886787347483777\n",
            "Generation 20: Best Fitness = 3.886787347483777\n",
            "Generation 21: Best Fitness = 3.886787347483777\n",
            "Generation 22: Best Fitness = 3.969189357456443\n",
            "Generation 23: Best Fitness = 3.969189357456443\n",
            "Generation 24: Best Fitness = 3.969189357456443\n",
            "Generation 25: Best Fitness = 4.012003669486145\n"
          ]
        }
      ]
    },
    {
      "cell_type": "code",
      "source": [
        "genes = GA[0]\n",
        "best_fitnesses = GA[-1]\n",
        "filtered_expression = expression[['Sample Identifier'] + genes + ['ICB Response']]"
      ],
      "metadata": {
        "id": "Z5-uz15fU9PX"
      },
      "execution_count": null,
      "outputs": []
    },
    {
      "cell_type": "code",
      "source": [
        "generations = [i + 1 for i in range(len(best_fitnesses))]\n",
        "plt.figure(figsize=(10, 5))\n",
        "plt.plot(generations, best_fitnesses, marker='o', linestyle='-', color='b')\n",
        "plt.title('Generation vs Best Fitness')\n",
        "plt.xlabel('Generation')\n",
        "plt.ylabel('Best Fitness')\n",
        "plt.grid(True)\n",
        "plt.show()"
      ],
      "metadata": {
        "colab": {
          "base_uri": "https://localhost:8080/",
          "height": 487
        },
        "id": "4EhzRfMTuw7j",
        "outputId": "b799b82b-2ca3-4f94-a141-4b8524171d09"
      },
      "execution_count": null,
      "outputs": [
        {
          "output_type": "display_data",
          "data": {
            "text/plain": [
              "<Figure size 1000x500 with 1 Axes>"
            ],
            "image/png": "[encoded data removed]"
          },
          "metadata": {}
        }
      ]
    },
    {
      "cell_type": "code",
      "source": [
        "results = logistic_regression_classifier(filtered_expression.iloc[:, 1:-1], expression.iloc[:, -1])\n",
        "print('classification accuracy is ', results)"
      ],
      "metadata": {
        "colab": {
          "base_uri": "https://localhost:8080/"
        },
        "id": "u1yOQwxXVne7",
        "outputId": "bd9fc2fa-9cf6-4b1f-d97f-eda475cf4508"
      },
      "execution_count": null,
      "outputs": [
        {
          "output_type": "stream",
          "name": "stdout",
          "text": [
            "classification accuracy is  0.5833333333333334\n"
          ]
        }
      ]
    },
    {
      "cell_type": "markdown",
      "source": [
        "# **Genetic Algorithms Combinations**"
      ],
      "metadata": {
        "id": "G7jtiYD6_28m"
      }
    },
    {
      "cell_type": "code",
      "source": [
        "crossover_probs = [0.1]\n",
        "mutation_probs = [0.05]\n",
        "population_sizes = [10, 25, 50]\n",
        "max_features = [60, 120, 240]\n",
        "fitness_functions = [\"LR\"]"
      ],
      "metadata": {
        "id": "uvD8RO2Ay4Nr"
      },
      "execution_count": null,
      "outputs": []
    },
    {
      "cell_type": "code",
      "source": [
        "def run_experiments():\n",
        "    results = []\n",
        "\n",
        "    param_combinations = list(product(crossover_probs, mutation_probs, population_sizes, max_features, fitness_functions))\n",
        "\n",
        "    for combo in param_combinations:\n",
        "        crossover_prob, mutation_prob, population_size, max_selected_features, fitness_function = combo\n",
        "\n",
        "        genes, best_fitnesses = genetic_algorithm(\n",
        "            expression, population_size, num_generations=10, max_selected_features=max_selected_features,\n",
        "            crossover_prob=crossover_prob, mutation_prob=mutation_prob, multiple_mutations=False, crossover_type='s', fitness_function=fitness_function\n",
        "        )\n",
        "\n",
        "        if fitness_function == 'mean':\n",
        "          filtered_expression = expression[['Sample Identifier'] + genes + ['ICB Response']]\n",
        "          accuracy = logistic_regression_classifier(filtered_expression.iloc[:, 1:-1], expression.iloc[:, -1])\n",
        "        else:\n",
        "          accuracy = best_fitnesses[-1]\n",
        "\n",
        "        results.append({\n",
        "            'Crossover Prob': crossover_prob,\n",
        "            'Mutation Prob': mutation_prob,\n",
        "            'Population Size': population_size,\n",
        "            'Max Features': max_selected_features,\n",
        "            'Fitness Function': fitness_function,\n",
        "            'Accuracy': accuracy\n",
        "        })\n",
        "        print(f\"Tested: {combo} with Accuracy: {accuracy}\")\n",
        "\n",
        "    results_df = pd.DataFrame(results)\n",
        "    return results_df"
      ],
      "metadata": {
        "id": "g6j3TpJbzSQy"
      },
      "execution_count": null,
      "outputs": []
    },
    {
      "cell_type": "code",
      "source": [
        "results = run_experiments()"
      ],
      "metadata": {
        "colab": {
          "base_uri": "https://localhost:8080/"
        },
        "id": "dpKlGIDN0prO",
        "outputId": "f799f173-a5c6-4f92-f4e2-8582b51edad7"
      },
      "execution_count": null,
      "outputs": [
        {
          "output_type": "stream",
          "name": "stdout",
          "text": [
            "Generation 1: Best Fitness = 0.7083333333333334\n",
            "Generation 2: Best Fitness = 0.7083333333333334\n",
            "Generation 3: Best Fitness = 0.7083333333333334\n",
            "Generation 4: Best Fitness = 0.7083333333333334\n",
            "Generation 5: Best Fitness = 0.7083333333333334\n",
            "Generation 6: Best Fitness = 0.7083333333333334\n",
            "Generation 7: Best Fitness = 0.7083333333333334\n",
            "Generation 8: Best Fitness = 0.7083333333333334\n",
            "Generation 9: Best Fitness = 0.7083333333333334\n",
            "Generation 10: Best Fitness = 0.75\n",
            "Tested: (0.1, 0.05, 10, 60, 'LR') with Accuracy: 0.75\n",
            "Generation 1: Best Fitness = 0.6666666666666666\n",
            "Generation 2: Best Fitness = 0.6666666666666666\n",
            "Generation 3: Best Fitness = 0.6666666666666666\n",
            "Generation 4: Best Fitness = 0.6666666666666666\n",
            "Generation 5: Best Fitness = 0.6666666666666666\n",
            "Generation 6: Best Fitness = 0.7083333333333334\n",
            "Generation 7: Best Fitness = 0.7083333333333334\n",
            "Generation 8: Best Fitness = 0.7083333333333334\n",
            "Generation 9: Best Fitness = 0.7083333333333334\n",
            "Generation 10: Best Fitness = 0.7083333333333334\n",
            "Tested: (0.1, 0.05, 10, 120, 'LR') with Accuracy: 0.7083333333333334\n",
            "Generation 1: Best Fitness = 0.6666666666666666\n",
            "Generation 2: Best Fitness = 0.6666666666666666\n",
            "Generation 3: Best Fitness = 0.6666666666666666\n",
            "Generation 4: Best Fitness = 0.6666666666666666\n",
            "Generation 5: Best Fitness = 0.6666666666666666\n",
            "Generation 6: Best Fitness = 0.7083333333333334\n",
            "Generation 7: Best Fitness = 0.75\n",
            "Generation 8: Best Fitness = 0.75\n",
            "Generation 9: Best Fitness = 0.75\n",
            "Generation 10: Best Fitness = 0.75\n",
            "Tested: (0.1, 0.05, 10, 240, 'LR') with Accuracy: 0.75\n",
            "Generation 1: Best Fitness = 0.7083333333333334\n",
            "Generation 2: Best Fitness = 0.7083333333333334\n",
            "Generation 3: Best Fitness = 0.7083333333333334\n",
            "Generation 4: Best Fitness = 0.7083333333333334\n",
            "Generation 5: Best Fitness = 0.7083333333333334\n",
            "Generation 6: Best Fitness = 0.7083333333333334\n",
            "Generation 7: Best Fitness = 0.7083333333333334\n",
            "Generation 8: Best Fitness = 0.7083333333333334\n",
            "Generation 9: Best Fitness = 0.7083333333333334\n",
            "Generation 10: Best Fitness = 0.7083333333333334\n",
            "Tested: (0.1, 0.05, 25, 60, 'LR') with Accuracy: 0.7083333333333334\n",
            "Generation 1: Best Fitness = 0.6666666666666666\n",
            "Generation 2: Best Fitness = 0.6666666666666666\n",
            "Generation 3: Best Fitness = 0.75\n",
            "Generation 4: Best Fitness = 0.75\n",
            "Generation 5: Best Fitness = 0.75\n",
            "Generation 6: Best Fitness = 0.75\n",
            "Generation 7: Best Fitness = 0.75\n",
            "Generation 8: Best Fitness = 0.75\n",
            "Generation 9: Best Fitness = 0.75\n",
            "Generation 10: Best Fitness = 0.75\n",
            "Tested: (0.1, 0.05, 25, 120, 'LR') with Accuracy: 0.75\n",
            "Generation 1: Best Fitness = 0.7083333333333334\n",
            "Generation 2: Best Fitness = 0.7083333333333334\n",
            "Generation 3: Best Fitness = 0.7083333333333334\n",
            "Generation 4: Best Fitness = 0.7083333333333334\n",
            "Generation 5: Best Fitness = 0.7083333333333334\n",
            "Generation 6: Best Fitness = 0.7083333333333334\n",
            "Generation 7: Best Fitness = 0.7083333333333334\n",
            "Generation 8: Best Fitness = 0.7083333333333334\n",
            "Generation 9: Best Fitness = 0.7083333333333334\n",
            "Generation 10: Best Fitness = 0.7083333333333334\n",
            "Tested: (0.1, 0.05, 25, 240, 'LR') with Accuracy: 0.7083333333333334\n",
            "Generation 1: Best Fitness = 0.75\n",
            "Generation 2: Best Fitness = 0.75\n",
            "Generation 3: Best Fitness = 0.75\n",
            "Generation 4: Best Fitness = 0.75\n",
            "Generation 5: Best Fitness = 0.75\n",
            "Generation 6: Best Fitness = 0.75\n",
            "Generation 7: Best Fitness = 0.75\n",
            "Generation 8: Best Fitness = 0.75\n",
            "Generation 9: Best Fitness = 0.75\n",
            "Generation 10: Best Fitness = 0.7916666666666666\n",
            "Tested: (0.1, 0.05, 50, 60, 'LR') with Accuracy: 0.7916666666666666\n",
            "Generation 1: Best Fitness = 0.7083333333333334\n",
            "Generation 2: Best Fitness = 0.7083333333333334\n",
            "Generation 3: Best Fitness = 0.7083333333333334\n",
            "Generation 4: Best Fitness = 0.7083333333333334\n",
            "Generation 5: Best Fitness = 0.75\n",
            "Generation 6: Best Fitness = 0.75\n",
            "Generation 7: Best Fitness = 0.7916666666666666\n",
            "Generation 8: Best Fitness = 0.7916666666666666\n",
            "Generation 9: Best Fitness = 0.7916666666666666\n",
            "Generation 10: Best Fitness = 0.7916666666666666\n",
            "Tested: (0.1, 0.05, 50, 120, 'LR') with Accuracy: 0.7916666666666666\n",
            "Generation 1: Best Fitness = 0.6666666666666666\n",
            "Generation 2: Best Fitness = 0.6666666666666666\n",
            "Generation 3: Best Fitness = 0.6666666666666666\n",
            "Generation 4: Best Fitness = 0.6666666666666666\n",
            "Generation 5: Best Fitness = 0.6666666666666666\n",
            "Generation 6: Best Fitness = 0.6666666666666666\n",
            "Generation 7: Best Fitness = 0.7083333333333334\n",
            "Generation 8: Best Fitness = 0.7083333333333334\n",
            "Generation 9: Best Fitness = 0.7083333333333334\n",
            "Generation 10: Best Fitness = 0.7083333333333334\n",
            "Tested: (0.1, 0.05, 50, 240, 'LR') with Accuracy: 0.7083333333333334\n"
          ]
        }
      ]
    },
    {
      "cell_type": "code",
      "source": [
        "results.to_csv('comb_LR.tsv', sep='\\t', index=False)"
      ],
      "metadata": {
        "id": "8GkgKP14_O9D"
      },
      "execution_count": null,
      "outputs": []
    },
    {
      "cell_type": "markdown",
      "source": [
        "# **Evaluation**"
      ],
      "metadata": {
        "id": "tc83mDqlv8dL"
      }
    },
    {
      "cell_type": "code",
      "source": [
        "MI_eval60 = evaluate_MI(expression.iloc[:, 1:-1], expression.iloc[:, -1], top_k=60)\n",
        "MI_eval120 = evaluate_MI(expression.iloc[:, 1:-1], expression.iloc[:, -1], top_k=120)\n",
        "MI_eval240 = evaluate_MI(expression.iloc[:, 1:-1], expression.iloc[:, -1], top_k=240)\n",
        "print('Evaluation with MI (Features: 60, 120, 240): ', MI_eval60, MI_eval120, MI_eval240)"
      ],
      "metadata": {
        "colab": {
          "base_uri": "https://localhost:8080/"
        },
        "id": "XK7PPhST-HJg",
        "outputId": "88e8569b-3450-4144-fb97-78c901ee44e4"
      },
      "execution_count": 19,
      "outputs": [
        {
          "output_type": "stream",
          "name": "stdout",
          "text": [
            "Evaluation with MI (Features: 60, 120, 240):  0.75 0.6666666666666666 0.5833333333333334\n"
          ]
        }
      ]
    },
    {
      "cell_type": "code",
      "source": [
        "rfe_eval60 = evaluate_rfe(expression.iloc[:, 1:-1], expression.iloc[:, -1], n_features_to_select=60, step=100)\n",
        "rfe_eval120 = evaluate_rfe(expression.iloc[:, 1:-1], expression.iloc[:, -1], n_features_to_select=120, step=100)\n",
        "rfe_eval240 = evaluate_rfe(expression.iloc[:, 1:-1], expression.iloc[:, -1], n_features_to_select=240, step=100)\n",
        "print('Evaluation with RFE (Features: 60, 120, 240): ', rfe_eval60, rfe_eval120, rfe_eval240)"
      ],
      "metadata": {
        "colab": {
          "base_uri": "https://localhost:8080/"
        },
        "outputId": "ba69493d-5d97-4bcf-a4c3-1c35d5131d46",
        "id": "mYNHiieP-AZM"
      },
      "execution_count": null,
      "outputs": [
        {
          "output_type": "stream",
          "name": "stdout",
          "text": [
            "Evaluation with RFE (Features: 60, 120, 240):  0.8333333333333334 0.8333333333333334 0.875\n"
          ]
        }
      ]
    }
  ]
}